{
 "cells": [
  {
   "cell_type": "code",
   "execution_count": 1,
   "metadata": {},
   "outputs": [
    {
     "name": "stderr",
     "output_type": "stream",
     "text": [
      "/home/aditya/anaconda3/lib/python3.6/site-packages/h5py/__init__.py:36: FutureWarning: Conversion of the second argument of issubdtype from `float` to `np.floating` is deprecated. In future, it will be treated as `np.float64 == np.dtype(float).type`.\n",
      "  from ._conv import register_converters as _register_converters\n"
     ]
    }
   ],
   "source": [
    "import cv2 as cv\n",
    "import numpy as np\n",
    "import tensorflow as tf\n",
    "import pandas as pd\n",
    "import tensorflow_hub as hub\n"
   ]
  },
  {
   "cell_type": "code",
   "execution_count": 2,
   "metadata": {},
   "outputs": [],
   "source": [
    "labels = pd.read_csv('labels.csv')"
   ]
  },
  {
   "cell_type": "code",
   "execution_count": 3,
   "metadata": {
    "scrolled": true
   },
   "outputs": [
    {
     "data": {
      "text/plain": [
       "(10222, 2)"
      ]
     },
     "execution_count": 3,
     "metadata": {},
     "output_type": "execute_result"
    }
   ],
   "source": [
    "labels.shape"
   ]
  },
  {
   "cell_type": "code",
   "execution_count": 4,
   "metadata": {},
   "outputs": [
    {
     "data": {
      "text/html": [
       "<div>\n",
       "<style scoped>\n",
       "    .dataframe tbody tr th:only-of-type {\n",
       "        vertical-align: middle;\n",
       "    }\n",
       "\n",
       "    .dataframe tbody tr th {\n",
       "        vertical-align: top;\n",
       "    }\n",
       "\n",
       "    .dataframe thead th {\n",
       "        text-align: right;\n",
       "    }\n",
       "</style>\n",
       "<table border=\"1\" class=\"dataframe\">\n",
       "  <thead>\n",
       "    <tr style=\"text-align: right;\">\n",
       "      <th></th>\n",
       "      <th>id</th>\n",
       "      <th>breed</th>\n",
       "    </tr>\n",
       "  </thead>\n",
       "  <tbody>\n",
       "    <tr>\n",
       "      <th>0</th>\n",
       "      <td>000bec180eb18c7604dcecc8fe0dba07</td>\n",
       "      <td>boston_bull</td>\n",
       "    </tr>\n",
       "    <tr>\n",
       "      <th>1</th>\n",
       "      <td>001513dfcb2ffafc82cccf4d8bbaba97</td>\n",
       "      <td>dingo</td>\n",
       "    </tr>\n",
       "    <tr>\n",
       "      <th>2</th>\n",
       "      <td>001cdf01b096e06d78e9e5112d419397</td>\n",
       "      <td>pekinese</td>\n",
       "    </tr>\n",
       "    <tr>\n",
       "      <th>3</th>\n",
       "      <td>00214f311d5d2247d5dfe4fe24b2303d</td>\n",
       "      <td>bluetick</td>\n",
       "    </tr>\n",
       "    <tr>\n",
       "      <th>4</th>\n",
       "      <td>0021f9ceb3235effd7fcde7f7538ed62</td>\n",
       "      <td>golden_retriever</td>\n",
       "    </tr>\n",
       "  </tbody>\n",
       "</table>\n",
       "</div>"
      ],
      "text/plain": [
       "                                 id             breed\n",
       "0  000bec180eb18c7604dcecc8fe0dba07       boston_bull\n",
       "1  001513dfcb2ffafc82cccf4d8bbaba97             dingo\n",
       "2  001cdf01b096e06d78e9e5112d419397          pekinese\n",
       "3  00214f311d5d2247d5dfe4fe24b2303d          bluetick\n",
       "4  0021f9ceb3235effd7fcde7f7538ed62  golden_retriever"
      ]
     },
     "execution_count": 4,
     "metadata": {},
     "output_type": "execute_result"
    }
   ],
   "source": [
    "labels.head()"
   ]
  },
  {
   "cell_type": "code",
   "execution_count": 6,
   "metadata": {},
   "outputs": [],
   "source": [
    "# directory spliting of images according to their labels\n",
    "for index, row in labels.iterrows():\n",
    "    if not tf.gfile.Exists('dog_train/%s'%(row['breed'])):\n",
    "        tf.gfile.MkDir('dog_train/%s'%(row['breed']))\n",
    "#     print('train/%s.jpg'%(row['id']),'dog_train/%s'%(row['breed']))\n",
    "    tf.gfile.Copy('train/%s.jpg'%(row['id']),'dog_train/%s/%s.jpg'%(row['breed'],row['id']),True)"
   ]
  },
  {
   "cell_type": "code",
   "execution_count": 7,
   "metadata": {},
   "outputs": [
    {
     "data": {
      "text/plain": [
       "array(['scottish_deerhound', 'maltese_dog', 'afghan_hound', 'entlebucher',\n",
       "       'bernese_mountain_dog', 'shih-tzu', 'great_pyrenees', 'pomeranian',\n",
       "       'basenji', 'samoyed', 'tibetan_terrier', 'airedale', 'cairn',\n",
       "       'leonberg', 'beagle', 'japanese_spaniel', 'blenheim_spaniel',\n",
       "       'miniature_pinscher', 'australian_terrier', 'irish_wolfhound',\n",
       "       'saluki', 'lakeland_terrier', 'papillon', 'whippet',\n",
       "       'norwegian_elkhound', 'siberian_husky', 'pug', 'chow',\n",
       "       'italian_greyhound', 'pembroke', 'ibizan_hound', 'border_terrier',\n",
       "       'newfoundland', 'lhasa', 'silky_terrier', 'dandie_dinmont',\n",
       "       'bedlington_terrier', 'sealyham_terrier', 'rhodesian_ridgeback',\n",
       "       'irish_setter', 'old_english_sheepdog', 'boston_bull', 'collie',\n",
       "       'bouvier_des_flandres', 'schipperke', 'english_foxhound', 'kelpie',\n",
       "       'african_hunting_dog', 'bloodhound', 'bluetick', 'weimaraner',\n",
       "       'labrador_retriever', 'saint_bernard', 'chesapeake_bay_retriever',\n",
       "       'norfolk_terrier', 'english_setter', 'wire-haired_fox_terrier',\n",
       "       'irish_terrier', 'greater_swiss_mountain_dog', 'groenendael',\n",
       "       'kerry_blue_terrier', 'yorkshire_terrier', 'basset',\n",
       "       'scotch_terrier', 'keeshond', 'gordon_setter', 'malamute',\n",
       "       'west_highland_white_terrier', 'mexican_hairless', 'affenpinscher',\n",
       "       'dingo', 'toy_poodle', 'clumber', 'standard_poodle',\n",
       "       'welsh_springer_spaniel', 'staffordshire_bullterrier',\n",
       "       'toy_terrier', 'miniature_poodle', 'norwich_terrier',\n",
       "       'miniature_schnauzer', 'appenzeller', 'irish_water_spaniel',\n",
       "       'sussex_spaniel', 'black-and-tan_coonhound', 'rottweiler',\n",
       "       'cardigan', 'dhole', 'shetland_sheepdog',\n",
       "       'german_short-haired_pointer', 'great_dane', 'english_springer',\n",
       "       'bull_mastiff', 'boxer', 'borzoi', 'pekinese', 'doberman',\n",
       "       'american_staffordshire_terrier', 'cocker_spaniel', 'malinois',\n",
       "       'brittany_spaniel', 'flat-coated_retriever', 'redbone',\n",
       "       'curly-coated_retriever', 'standard_schnauzer', 'border_collie',\n",
       "       'kuvasz', 'soft-coated_wheaten_terrier', 'chihuahua', 'vizsla',\n",
       "       'french_bulldog', 'walker_hound', 'giant_schnauzer',\n",
       "       'german_shepherd', 'otterhound', 'tibetan_mastiff', 'komondor',\n",
       "       'brabancon_griffon', 'golden_retriever', 'briard', 'eskimo_dog'],\n",
       "      dtype=object)"
      ]
     },
     "execution_count": 7,
     "metadata": {},
     "output_type": "execute_result"
    }
   ],
   "source": [
    "np.array(labels['breed'].value_counts().index)"
   ]
  },
  {
   "cell_type": "code",
   "execution_count": 8,
   "metadata": {},
   "outputs": [],
   "source": [
    "import matplotlib.pyplot as plt\n",
    "import seaborn as sns\n",
    "# fig, ax = plt.subplots()\n",
    "# fig.set_size_inches(11.7, 8.27)\n",
    "sns.set(rc={'figure.figsize':(20,8.27)})"
   ]
  },
  {
   "cell_type": "code",
   "execution_count": 9,
   "metadata": {},
   "outputs": [
    {
     "data": {
      "image/png": "[encoded data removed]",
      "text/plain": [
       "<Figure size 432x288 with 1 Axes>"
      ]
     },
     "metadata": {},
     "output_type": "display_data"
    }
   ],
   "source": [
    "ax = sns.barplot(x=np.array(labels['breed'].value_counts().index), y=np.array(labels['breed'].value_counts()), orient='v')"
   ]
  },
  {
   "cell_type": "code",
   "execution_count": null,
   "metadata": {},
   "outputs": [],
   "source": []
  },
  {
   "cell_type": "code",
   "execution_count": null,
   "metadata": {},
   "outputs": [],
   "source": []
  }
 ],
 "metadata": {
  "kernelspec": {
   "display_name": "Python 3",
   "language": "python",
   "name": "python3"
  },
  "language_info": {
   "codemirror_mode": {
    "name": "ipython",
    "version": 3
   },
   "file_extension": ".py",
   "mimetype": "text/x-python",
   "name": "python",
   "nbconvert_exporter": "python",
   "pygments_lexer": "ipython3",
   "version": "3.6.5"
  }
 },
 "nbformat": 4,
 "nbformat_minor": 2
}
