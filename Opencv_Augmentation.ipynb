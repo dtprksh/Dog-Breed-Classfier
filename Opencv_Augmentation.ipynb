{
 "cells": [
  {
   "cell_type": "code",
   "execution_count": 1,
   "metadata": {},
   "outputs": [
    {
     "name": "stderr",
     "output_type": "stream",
     "text": [
      "/home/aditya/anaconda3/lib/python3.6/site-packages/h5py/__init__.py:36: FutureWarning: Conversion of the second argument of issubdtype from `float` to `np.floating` is deprecated. In future, it will be treated as `np.float64 == np.dtype(float).type`.\n",
      "  from ._conv import register_converters as _register_converters\n"
     ]
    }
   ],
   "source": [
    "import numpy as np\n",
    "import pandas as pd\n",
    "from tqdm import tqdm\n",
    "import cv2\n",
    "import matplotlib.pyplot as plt\n",
    "import tensorflow as tf"
   ]
  },
  {
   "cell_type": "code",
   "execution_count": 2,
   "metadata": {},
   "outputs": [
    {
     "data": {
      "text/html": [
       "<div>\n",
       "<style scoped>\n",
       "    .dataframe tbody tr th:only-of-type {\n",
       "        vertical-align: middle;\n",
       "    }\n",
       "\n",
       "    .dataframe tbody tr th {\n",
       "        vertical-align: top;\n",
       "    }\n",
       "\n",
       "    .dataframe thead th {\n",
       "        text-align: right;\n",
       "    }\n",
       "</style>\n",
       "<table border=\"1\" class=\"dataframe\">\n",
       "  <thead>\n",
       "    <tr style=\"text-align: right;\">\n",
       "      <th></th>\n",
       "      <th>id</th>\n",
       "      <th>breed</th>\n",
       "    </tr>\n",
       "  </thead>\n",
       "  <tbody>\n",
       "    <tr>\n",
       "      <th>0</th>\n",
       "      <td>000bec180eb18c7604dcecc8fe0dba07</td>\n",
       "      <td>boston_bull</td>\n",
       "    </tr>\n",
       "    <tr>\n",
       "      <th>1</th>\n",
       "      <td>001513dfcb2ffafc82cccf4d8bbaba97</td>\n",
       "      <td>dingo</td>\n",
       "    </tr>\n",
       "    <tr>\n",
       "      <th>2</th>\n",
       "      <td>001cdf01b096e06d78e9e5112d419397</td>\n",
       "      <td>pekinese</td>\n",
       "    </tr>\n",
       "    <tr>\n",
       "      <th>3</th>\n",
       "      <td>00214f311d5d2247d5dfe4fe24b2303d</td>\n",
       "      <td>bluetick</td>\n",
       "    </tr>\n",
       "    <tr>\n",
       "      <th>4</th>\n",
       "      <td>0021f9ceb3235effd7fcde7f7538ed62</td>\n",
       "      <td>golden_retriever</td>\n",
       "    </tr>\n",
       "  </tbody>\n",
       "</table>\n",
       "</div>"
      ],
      "text/plain": [
       "                                 id             breed\n",
       "0  000bec180eb18c7604dcecc8fe0dba07       boston_bull\n",
       "1  001513dfcb2ffafc82cccf4d8bbaba97             dingo\n",
       "2  001cdf01b096e06d78e9e5112d419397          pekinese\n",
       "3  00214f311d5d2247d5dfe4fe24b2303d          bluetick\n",
       "4  0021f9ceb3235effd7fcde7f7538ed62  golden_retriever"
      ]
     },
     "execution_count": 2,
     "metadata": {},
     "output_type": "execute_result"
    }
   ],
   "source": [
    "train=pd.read_csv('labels.csv')\n",
    "train.head()"
   ]
  },
  {
   "cell_type": "code",
   "execution_count": 3,
   "metadata": {},
   "outputs": [
    {
     "name": "stderr",
     "output_type": "stream",
     "text": [
      "100%|██████████| 10222/10222 [00:34<00:00, 296.89it/s]\n"
     ]
    }
   ],
   "source": [
    "img_width=256\n",
    "img_height=256\n",
    "images=[]\n",
    "classes=[]\n",
    "#load training images\n",
    "for f, breed in tqdm(train.values):\n",
    "    img = cv2.imread('train/{}.jpg'.format(f))\n",
    "    classes.append(breed)\n",
    "    images.append(cv2.resize(img, (img_width, img_height)))"
   ]
  },
  {
   "cell_type": "code",
   "execution_count": 4,
   "metadata": {},
   "outputs": [],
   "source": [
    "images_RGB=[]\n",
    "for i in range(10222):\n",
    "    images_RGB.append(cv2.cvtColor(images[i],cv2.COLOR_BGR2RGB))"
   ]
  },
  {
   "cell_type": "code",
   "execution_count": 5,
   "metadata": {},
   "outputs": [],
   "source": [
    "random_flip_lftrt=[]\n",
    "for i in range(500):\n",
    "    random_flip_lftrt.append(np.random.randint(0,len(images)))\n",
    "lftrt_flip_ip=[]\n",
    "lftrt_flip_cls=[]\n",
    "q = -1\n",
    "for i in (random_flip_lftrt):\n",
    "    q+=1\n",
    "    k=(i)\n",
    "    lftrt_flip_ip.append(cv2.flip(images_RGB[k],1))\n",
    "    lftrt_flip_cls.append(classes[i])\n",
    "    name = 'train_aug/'+str(train.id[i])+'_lftrt.jpg'\n",
    "    cv2.imwrite(name,lftrt_flip_ip[q])\n",
    "    "
   ]
  },
  {
   "cell_type": "code",
   "execution_count": 6,
   "metadata": {},
   "outputs": [],
   "source": [
    "for i in range(500):\n",
    "    random_flip_updown=[np.random.randint(0,len(images))]\n",
    "updown_flip_ip=[]\n",
    "updown_flip_cls=[]\n",
    "q = -1\n",
    "for i in random_flip_updown:\n",
    "    q+=1\n",
    "    updown_flip_ip.append(cv2.flip(images_RGB[i],0))\n",
    "    updown_flip_cls.append(classes[i])\n",
    "    name = 'train_aug/'+str(train.id[i])+'_updown.jpg'\n",
    "    cv2.imwrite(name,updown_flip_ip[q])"
   ]
  },
  {
   "cell_type": "code",
   "execution_count": 7,
   "metadata": {},
   "outputs": [],
   "source": [
    "for i in range(500):\n",
    "    random_blur=[np.random.randint(0,len(images))]\n",
    "blur_ip=[]\n",
    "blur_cls=[]\n",
    "q= -1\n",
    "for i in random_blur:\n",
    "    q+=1\n",
    "    blur_ip.append(cv2.blur(images_RGB[i],(7,7)))\n",
    "    blur_cls.append(classes[i])\n",
    "    name = 'train_aug/'+str(train.id[i])+'_blur.jpg'\n",
    "    cv2.imwrite(name,blur_ip[q])"
   ]
  },
  {
   "cell_type": "code",
   "execution_count": 8,
   "metadata": {},
   "outputs": [],
   "source": [
    "for i in range(500):\n",
    "    random_flip_updown=[np.random.randint(0,len(images))]\n",
    "gaussianblur_ip=[]\n",
    "gaussianblur_cls=[]\n",
    "q= -1\n",
    "for i in random_flip_updown:\n",
    "    q+=1\n",
    "    gaussianblur_ip.append(cv2.blur(images_RGB[i],(7,7),1))\n",
    "    gaussianblur_cls.append(classes[i])\n",
    "    name = 'train_aug/'+str(train.id[i])+'_gaussianblur.jpg'\n",
    "    cv2.imwrite(name,gaussianblur_ip[q])"
   ]
  },
  {
   "cell_type": "code",
   "execution_count": 9,
   "metadata": {},
   "outputs": [],
   "source": [
    "for i in range(500):\n",
    "    random_medianblur=[np.random.randint(0,len(images))]\n",
    "medianblur_ip=[]\n",
    "medianblur_cls=[]\n",
    "q= -1\n",
    "for i in random_flip_updown:\n",
    "    q+=1\n",
    "    medianblur_ip.append(cv2.blur(images_RGB[i],(7,7),1))\n",
    "    medianblur_cls.append(classes[i])\n",
    "    name = 'train_aug/'+str(train.id[i])+'_medianblur.jpg'\n",
    "    cv2.imwrite(name,medianblur_ip[q])"
   ]
  },
  {
   "cell_type": "code",
   "execution_count": 10,
   "metadata": {},
   "outputs": [],
   "source": [
    "for i in range(500):\n",
    "    random_erosion=[np.random.randint(0,len(images))]\n",
    "erosion_ip=[]\n",
    "erosion_cls=[]\n",
    "q=-1\n",
    "kernel_ellipse = cv2.getStructuringElement(cv2.MORPH_ELLIPSE,(5,5))\n",
    "for i in random_erosion:\n",
    "    q+=1\n",
    "    erosion_ip.append(cv2.erode(images_RGB[i],kernel_ellipse,iterations=1))\n",
    "    erosion_cls.append(classes[i])\n",
    "    name = 'train_aug/'+str(train.id[i])+'_erosion.jpg'\n",
    "    cv2.imwrite(name,erosion_ip[q])"
   ]
  },
  {
   "cell_type": "code",
   "execution_count": 11,
   "metadata": {},
   "outputs": [],
   "source": [
    "for i in range(500):\n",
    "    random_dilation=[np.random.randint(0,len(images))]\n",
    "dilation_ip=[]\n",
    "dilation_cls=[]\n",
    "q= -1\n",
    "for i in random_dilation:\n",
    "    q+=1\n",
    "    dilation_ip.append(cv2.erode(images_RGB[i],kernel_ellipse,iterations=1))\n",
    "    dilation_cls.append(classes[i])\n",
    "    name = 'train_aug/'+str(train.id[i])+'_dilation.jpg'\n",
    "    cv2.imwrite(name,dilation_ip[q])"
   ]
  },
  {
   "cell_type": "code",
   "execution_count": 12,
   "metadata": {},
   "outputs": [],
   "source": [
    "for i in range(500):\n",
    "    random_laplacian=[np.random.randint(0,len(images))]\n",
    "laplacian_ip=[]\n",
    "laplacian_cls=[]\n",
    "q=-1\n",
    "kernel_rect = cv2.getStructuringElement(cv2.MORPH_RECT,(5,5))\n",
    "for i in random_flip_updown:\n",
    "    q+=1\n",
    "    laplacian_ip.append(cv2.morphologyEx(images_RGB[i],cv2.MORPH_CLOSE,kernel_rect))\n",
    "    laplacian_cls.append(classes[i])\n",
    "    name = 'train_aug/'+str(train.id[i])+'_laplacian.jpg'\n",
    "    cv2.imwrite(name,laplacian_ip[q])"
   ]
  },
  {
   "cell_type": "code",
   "execution_count": 13,
   "metadata": {},
   "outputs": [],
   "source": [
    "blue =[]\n",
    "green =[]\n",
    "red=[]\n",
    "for i in range(10222):\n",
    "    b,g,r = cv2.split(images_RGB[i])\n",
    "    blue.append(b)\n",
    "    green.append(g)\n",
    "    red.append(r)"
   ]
  },
  {
   "cell_type": "code",
   "execution_count": 14,
   "metadata": {},
   "outputs": [],
   "source": [
    "gbr_img =[]\n",
    "gbr_cls=[]\n",
    "for i in range(500):\n",
    "    random_gbr = [np.random.randint(0, len(images))]\n",
    "q=-1\n",
    "for i in random_gbr:\n",
    "    q+=1\n",
    "    gbr_img.append(cv2.merge([green[i],blue[i],red[i]]))\n",
    "    gbr_cls.append(classes[i])\n",
    "    name = 'train_aug/'+str(train.id[i])+'_gbr_img.jpg'\n",
    "    cv2.imwrite(name,gbr_img[q])"
   ]
  },
  {
   "cell_type": "code",
   "execution_count": 15,
   "metadata": {},
   "outputs": [],
   "source": [
    "brg_img =[]\n",
    "brg_cls=[]\n",
    "for i in range(500):\n",
    "    random_brg = [np.random.randint(0, len(images))]\n",
    "q=-1\n",
    "for i in random_brg:\n",
    "    q+=1\n",
    "    brg_img.append(cv2.merge([blue[i],red[i],green[i]]))\n",
    "    brg_cls.append(classes[i])\n",
    "    name = 'train_aug/'+str(train.id[i])+'_brg_img.jpg'\n",
    "    cv2.imwrite(name,brg_img[q])"
   ]
  },
  {
   "cell_type": "code",
   "execution_count": 16,
   "metadata": {},
   "outputs": [],
   "source": [
    "rows,cols,ch = images_RGB[0].shape    \n",
    "Rot_M = cv2.getRotationMatrix2D((cols/2,rows/2),45,1)\n",
    "Trans_M = np.float32([[1,0,15],[0,1,15]])\n",
    "pts1 = np.float32([[5,5],[20,5],[5,20]])\n",
    "pts2 = np.float32([[10,15],[25,17],[8,20]])"
   ]
  },
  {
   "cell_type": "code",
   "execution_count": 17,
   "metadata": {},
   "outputs": [],
   "source": [
    "rot_img =[]\n",
    "rot_cls=[]\n",
    "q=-1\n",
    "for i in range(500):\n",
    "    random_rot = [np.random.randint(0, len(images))]\n",
    "for i in random_rot:\n",
    "    q+=1\n",
    "    rot_img.append(cv2.warpAffine(images_RGB[i],Rot_M,(cols,rows)))\n",
    "    rot_cls.append(classes[i])\n",
    "    name = 'train_aug/'+str(train.id[i])+'_rot_img.jpg'\n",
    "    cv2.imwrite(name,rot_img[q])"
   ]
  },
  {
   "cell_type": "code",
   "execution_count": 18,
   "metadata": {},
   "outputs": [],
   "source": [
    "trans_img =[]\n",
    "trans_cls=[]\n",
    "q=-1\n",
    "for i in range(500):\n",
    "    random_trans = [np.random.randint(0, len(images))]\n",
    "for i in random_rot:\n",
    "    q+=1\n",
    "    trans_img.append(cv2.warpAffine(img,Trans_M,(cols,rows)))\n",
    "    trans_cls.append(classes[i])\n",
    "    name = 'train_aug/'+str(train.id[i])+'_trans_img.jpg'\n",
    "    cv2.imwrite(name,trans_img[q])"
   ]
  },
  {
   "cell_type": "code",
   "execution_count": 19,
   "metadata": {},
   "outputs": [],
   "source": [
    "shear_img =[]\n",
    "shear_cls=[]\n",
    "q=-1\n",
    "for i in range(500):\n",
    "    random_shear = [np.random.randint(0, len(images))]\n",
    "for i in random_rot:\n",
    "    q+=1\n",
    "    shear_img.append(cv2.warpAffine(img,Trans_M,(cols,rows)))\n",
    "    shear_cls.append(classes[i])\n",
    "    name = 'train_aug/'+str(train.id[i])+'_shear_img.jpg'\n",
    "    cv2.imwrite(name,shear_img[q])"
   ]
  },
  {
   "cell_type": "code",
   "execution_count": null,
   "metadata": {},
   "outputs": [],
   "source": []
  }
 ],
 "metadata": {
  "kernelspec": {
   "display_name": "Python 3",
   "language": "python",
   "name": "python3"
  },
  "language_info": {
   "codemirror_mode": {
    "name": "ipython",
    "version": 3
   },
   "file_extension": ".py",
   "mimetype": "text/x-python",
   "name": "python",
   "nbconvert_exporter": "python",
   "pygments_lexer": "ipython3",
   "version": "3.6.5"
  }
 },
 "nbformat": 4,
 "nbformat_minor": 2
}
